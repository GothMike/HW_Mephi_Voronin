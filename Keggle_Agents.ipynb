{
  "cells": [
    {
      "cell_type": "markdown",
      "metadata": {
        "id": "view-in-github",
        "colab_type": "text"
      },
      "source": [
        "<a href=\"https://colab.research.google.com/github/GothMike/HW_Python_3/blob/master/Voronin_HW_3_Python.ipynb\" target=\"_parent\"><img src=\"https://colab.research.google.com/assets/colab-badge.svg\" alt=\"Open In Colab\"/></a>"
      ]
    },
    {
      "cell_type": "code",
      "source": [
        "pip install kaggle-environments\n"
      ],
      "metadata": {
        "colab": {
          "base_uri": "https://localhost:8080/"
        },
        "id": "gWO5G5jIW2aN",
        "outputId": "6e3e27df-5fa7-43d1-8844-7c0bd8fb7d57"
      },
      "execution_count": 60,
      "outputs": [
        {
          "output_type": "stream",
          "name": "stdout",
          "text": [
            "Requirement already satisfied: kaggle-environments in /usr/local/lib/python3.10/dist-packages (1.14.15)\n",
            "Requirement already satisfied: Flask>=1.1.2 in /usr/local/lib/python3.10/dist-packages (from kaggle-environments) (2.2.5)\n",
            "Requirement already satisfied: gymnasium==0.29.0 in /usr/local/lib/python3.10/dist-packages (from kaggle-environments) (0.29.0)\n",
            "Requirement already satisfied: jsonschema>=3.0.1 in /usr/local/lib/python3.10/dist-packages (from kaggle-environments) (4.23.0)\n",
            "Requirement already satisfied: numpy>=1.19.5 in /usr/local/lib/python3.10/dist-packages (from kaggle-environments) (1.26.4)\n",
            "Requirement already satisfied: pettingzoo==1.24.0 in /usr/local/lib/python3.10/dist-packages (from kaggle-environments) (1.24.0)\n",
            "Requirement already satisfied: requests>=2.25.1 in /usr/local/lib/python3.10/dist-packages (from kaggle-environments) (2.32.3)\n",
            "Requirement already satisfied: scipy>=1.11.2 in /usr/local/lib/python3.10/dist-packages (from kaggle-environments) (1.13.1)\n",
            "Requirement already satisfied: shimmy>=1.2.1 in /usr/local/lib/python3.10/dist-packages (from kaggle-environments) (1.3.0)\n",
            "Requirement already satisfied: stable-baselines3==2.1.0 in /usr/local/lib/python3.10/dist-packages (from kaggle-environments) (2.1.0)\n",
            "Requirement already satisfied: transformers>=4.33.1 in /usr/local/lib/python3.10/dist-packages (from kaggle-environments) (4.44.2)\n",
            "Requirement already satisfied: vec-noise>=1.1.4 in /usr/local/lib/python3.10/dist-packages (from kaggle-environments) (1.1.4)\n",
            "Requirement already satisfied: cloudpickle>=1.2.0 in /usr/local/lib/python3.10/dist-packages (from gymnasium==0.29.0->kaggle-environments) (2.2.1)\n",
            "Requirement already satisfied: typing-extensions>=4.3.0 in /usr/local/lib/python3.10/dist-packages (from gymnasium==0.29.0->kaggle-environments) (4.12.2)\n",
            "Requirement already satisfied: farama-notifications>=0.0.1 in /usr/local/lib/python3.10/dist-packages (from gymnasium==0.29.0->kaggle-environments) (0.0.4)\n",
            "Requirement already satisfied: torch>=1.13 in /usr/local/lib/python3.10/dist-packages (from stable-baselines3==2.1.0->kaggle-environments) (2.4.1+cu121)\n",
            "Requirement already satisfied: pandas in /usr/local/lib/python3.10/dist-packages (from stable-baselines3==2.1.0->kaggle-environments) (2.1.4)\n",
            "Requirement already satisfied: matplotlib in /usr/local/lib/python3.10/dist-packages (from stable-baselines3==2.1.0->kaggle-environments) (3.7.1)\n",
            "Requirement already satisfied: Werkzeug>=2.2.2 in /usr/local/lib/python3.10/dist-packages (from Flask>=1.1.2->kaggle-environments) (3.0.4)\n",
            "Requirement already satisfied: Jinja2>=3.0 in /usr/local/lib/python3.10/dist-packages (from Flask>=1.1.2->kaggle-environments) (3.1.4)\n",
            "Requirement already satisfied: itsdangerous>=2.0 in /usr/local/lib/python3.10/dist-packages (from Flask>=1.1.2->kaggle-environments) (2.2.0)\n",
            "Requirement already satisfied: click>=8.0 in /usr/local/lib/python3.10/dist-packages (from Flask>=1.1.2->kaggle-environments) (8.1.7)\n",
            "Requirement already satisfied: attrs>=22.2.0 in /usr/local/lib/python3.10/dist-packages (from jsonschema>=3.0.1->kaggle-environments) (24.2.0)\n",
            "Requirement already satisfied: jsonschema-specifications>=2023.03.6 in /usr/local/lib/python3.10/dist-packages (from jsonschema>=3.0.1->kaggle-environments) (2023.12.1)\n",
            "Requirement already satisfied: referencing>=0.28.4 in /usr/local/lib/python3.10/dist-packages (from jsonschema>=3.0.1->kaggle-environments) (0.35.1)\n",
            "Requirement already satisfied: rpds-py>=0.7.1 in /usr/local/lib/python3.10/dist-packages (from jsonschema>=3.0.1->kaggle-environments) (0.20.0)\n",
            "Requirement already satisfied: charset-normalizer<4,>=2 in /usr/local/lib/python3.10/dist-packages (from requests>=2.25.1->kaggle-environments) (3.3.2)\n",
            "Requirement already satisfied: idna<4,>=2.5 in /usr/local/lib/python3.10/dist-packages (from requests>=2.25.1->kaggle-environments) (3.10)\n",
            "Requirement already satisfied: urllib3<3,>=1.21.1 in /usr/local/lib/python3.10/dist-packages (from requests>=2.25.1->kaggle-environments) (2.2.3)\n",
            "Requirement already satisfied: certifi>=2017.4.17 in /usr/local/lib/python3.10/dist-packages (from requests>=2.25.1->kaggle-environments) (2024.8.30)\n",
            "Requirement already satisfied: filelock in /usr/local/lib/python3.10/dist-packages (from transformers>=4.33.1->kaggle-environments) (3.16.1)\n",
            "Requirement already satisfied: huggingface-hub<1.0,>=0.23.2 in /usr/local/lib/python3.10/dist-packages (from transformers>=4.33.1->kaggle-environments) (0.24.7)\n",
            "Requirement already satisfied: packaging>=20.0 in /usr/local/lib/python3.10/dist-packages (from transformers>=4.33.1->kaggle-environments) (24.1)\n",
            "Requirement already satisfied: pyyaml>=5.1 in /usr/local/lib/python3.10/dist-packages (from transformers>=4.33.1->kaggle-environments) (6.0.2)\n",
            "Requirement already satisfied: regex!=2019.12.17 in /usr/local/lib/python3.10/dist-packages (from transformers>=4.33.1->kaggle-environments) (2024.9.11)\n",
            "Requirement already satisfied: safetensors>=0.4.1 in /usr/local/lib/python3.10/dist-packages (from transformers>=4.33.1->kaggle-environments) (0.4.5)\n",
            "Requirement already satisfied: tokenizers<0.20,>=0.19 in /usr/local/lib/python3.10/dist-packages (from transformers>=4.33.1->kaggle-environments) (0.19.1)\n",
            "Requirement already satisfied: tqdm>=4.27 in /usr/local/lib/python3.10/dist-packages (from transformers>=4.33.1->kaggle-environments) (4.66.5)\n",
            "Requirement already satisfied: fsspec>=2023.5.0 in /usr/local/lib/python3.10/dist-packages (from huggingface-hub<1.0,>=0.23.2->transformers>=4.33.1->kaggle-environments) (2024.6.1)\n",
            "Requirement already satisfied: MarkupSafe>=2.0 in /usr/local/lib/python3.10/dist-packages (from Jinja2>=3.0->Flask>=1.1.2->kaggle-environments) (2.1.5)\n",
            "Requirement already satisfied: sympy in /usr/local/lib/python3.10/dist-packages (from torch>=1.13->stable-baselines3==2.1.0->kaggle-environments) (1.13.3)\n",
            "Requirement already satisfied: networkx in /usr/local/lib/python3.10/dist-packages (from torch>=1.13->stable-baselines3==2.1.0->kaggle-environments) (3.3)\n",
            "Requirement already satisfied: contourpy>=1.0.1 in /usr/local/lib/python3.10/dist-packages (from matplotlib->stable-baselines3==2.1.0->kaggle-environments) (1.3.0)\n",
            "Requirement already satisfied: cycler>=0.10 in /usr/local/lib/python3.10/dist-packages (from matplotlib->stable-baselines3==2.1.0->kaggle-environments) (0.12.1)\n",
            "Requirement already satisfied: fonttools>=4.22.0 in /usr/local/lib/python3.10/dist-packages (from matplotlib->stable-baselines3==2.1.0->kaggle-environments) (4.53.1)\n",
            "Requirement already satisfied: kiwisolver>=1.0.1 in /usr/local/lib/python3.10/dist-packages (from matplotlib->stable-baselines3==2.1.0->kaggle-environments) (1.4.7)\n",
            "Requirement already satisfied: pillow>=6.2.0 in /usr/local/lib/python3.10/dist-packages (from matplotlib->stable-baselines3==2.1.0->kaggle-environments) (10.4.0)\n",
            "Requirement already satisfied: pyparsing>=2.3.1 in /usr/local/lib/python3.10/dist-packages (from matplotlib->stable-baselines3==2.1.0->kaggle-environments) (3.1.4)\n",
            "Requirement already satisfied: python-dateutil>=2.7 in /usr/local/lib/python3.10/dist-packages (from matplotlib->stable-baselines3==2.1.0->kaggle-environments) (2.8.2)\n",
            "Requirement already satisfied: pytz>=2020.1 in /usr/local/lib/python3.10/dist-packages (from pandas->stable-baselines3==2.1.0->kaggle-environments) (2024.2)\n",
            "Requirement already satisfied: tzdata>=2022.1 in /usr/local/lib/python3.10/dist-packages (from pandas->stable-baselines3==2.1.0->kaggle-environments) (2024.1)\n",
            "Requirement already satisfied: six>=1.5 in /usr/local/lib/python3.10/dist-packages (from python-dateutil>=2.7->matplotlib->stable-baselines3==2.1.0->kaggle-environments) (1.16.0)\n",
            "Requirement already satisfied: mpmath<1.4,>=1.1.0 in /usr/local/lib/python3.10/dist-packages (from sympy->torch>=1.13->stable-baselines3==2.1.0->kaggle-environments) (1.3.0)\n"
          ]
        }
      ]
    },
    {
      "cell_type": "code",
      "execution_count": 61,
      "metadata": {
        "id": "GakWFNp9xgZ0"
      },
      "outputs": [],
      "source": [
        "import random\n",
        "from kaggle_environments import make"
      ]
    },
    {
      "cell_type": "markdown",
      "source": [
        "## Агенты программы"
      ],
      "metadata": {
        "id": "LMkXC5G6zMVi"
      }
    },
    {
      "cell_type": "markdown",
      "source": [
        "### Базовые агенты"
      ],
      "metadata": {
        "id": "rRLa7UuUEDJj"
      }
    },
    {
      "cell_type": "code",
      "source": [
        "# Агент, который возвращает всегда только камень\n",
        "def stone_agent(observation, configuration):\n",
        "  return 0"
      ],
      "metadata": {
        "id": "0jnSBJzMzLTj"
      },
      "execution_count": 62,
      "outputs": []
    },
    {
      "cell_type": "code",
      "source": [
        "# Агент, который всегда возвращает только ножницы\n",
        "def scissors_agent(observation, configuration):\n",
        "  return 1"
      ],
      "metadata": {
        "id": "Bjndg92FUBxm"
      },
      "execution_count": 63,
      "outputs": []
    },
    {
      "cell_type": "code",
      "source": [
        "# Агент, который всегда возвращает только бумагу\n",
        "def paper_agent(observation, configuration):\n",
        "  return 2"
      ],
      "metadata": {
        "id": "WnnymWmCS1VJ"
      },
      "execution_count": 64,
      "outputs": []
    },
    {
      "cell_type": "markdown",
      "source": [
        "### Агенты связанные с случайностью"
      ],
      "metadata": {
        "id": "yWWYeNqHEHwF"
      }
    },
    {
      "cell_type": "code",
      "source": [
        "# Агент, который возвращает случайный выбор от 0 до 2\n",
        "def random_agent(observation, configuration):\n",
        "  return random.choice([0,1,2])"
      ],
      "metadata": {
        "id": "crks4kBGUDDz"
      },
      "execution_count": 65,
      "outputs": []
    },
    {
      "cell_type": "code",
      "source": [
        "# Агент, который возвращает только ножницы или камень\n",
        "def scissors_or_stone_agent(observation, configuration):\n",
        "  return random.choice([0,1])"
      ],
      "metadata": {
        "id": "3au9smD8Drq1"
      },
      "execution_count": 66,
      "outputs": []
    },
    {
      "cell_type": "code",
      "source": [
        "# Агент, который возвращает только камень или бумагу\n",
        "def stone_or_paper_agent(observation, configuration):\n",
        "  return random.choice([0,2])"
      ],
      "metadata": {
        "id": "jMbr7LGvE8Ko"
      },
      "execution_count": 67,
      "outputs": []
    },
    {
      "cell_type": "markdown",
      "source": [
        "### Агенты, связанные с повторением действий"
      ],
      "metadata": {
        "id": "Kgo9aa4vGARG"
      }
    },
    {
      "cell_type": "code",
      "source": [
        "# Агент, который всегда повторяет свой предыдущий ход\n",
        "def repeat_self_random_agent(observation, configuration):\n",
        "  if observation.step == 0:\n",
        "    return random.choice([0,1,2])\n",
        "  return observation.lastAction"
      ],
      "metadata": {
        "id": "J8ybpaP0FOqM"
      },
      "execution_count": 68,
      "outputs": []
    },
    {
      "cell_type": "code",
      "source": [
        "# Агент, который последовательно вариации, камень-ножницы-бумага\n",
        "def cyclic_agent(observation, configuration):\n",
        "  return observation.step % 3"
      ],
      "metadata": {
        "id": "Rp3OTBhZUFDa"
      },
      "execution_count": 69,
      "outputs": []
    },
    {
      "cell_type": "code",
      "source": [
        "# Агент, который копирует последний ход противника\n",
        "def copy_opponent_action_agent(observation, configuration):\n",
        "  if observation.step == 0:\n",
        "    return random.choice([0,1,2])\n",
        "  return observation.lastOpponentAction"
      ],
      "metadata": {
        "id": "I9SIEPjxUkIT"
      },
      "execution_count": 70,
      "outputs": []
    },
    {
      "cell_type": "markdown",
      "source": [
        "### Агенты, связанные с весами"
      ],
      "metadata": {
        "id": "4nksHHf4IMRm"
      }
    },
    {
      "cell_type": "code",
      "source": [
        "# Агент, который предпочитает камень\n",
        "def prefer_stone_agent(observation,configuration):\n",
        "  return random.choices([0,1,2], weights=[0.6, 0.2, 0.2])[0]"
      ],
      "metadata": {
        "id": "7eesB5A7IQe6"
      },
      "execution_count": 71,
      "outputs": []
    },
    {
      "cell_type": "code",
      "source": [
        "# Агент, который предпочитает ножницы\n",
        "def prefer_scissors_agent(observation,configuration):\n",
        "  return random.choices([0,1,2], weights=[0.2, 0.6, 0.2])[0]"
      ],
      "metadata": {
        "id": "AmJkBiDII3BY"
      },
      "execution_count": 72,
      "outputs": []
    },
    {
      "cell_type": "code",
      "source": [
        "# Агент, который предпочитает бумагу\n",
        "def prefer_paper_agent(observation,configuration):\n",
        "  return random.choices([0,1,2], weights=[0.2, 0.2, 0.6])[0]"
      ],
      "metadata": {
        "id": "UhDpvqxYI4Dn"
      },
      "execution_count": 73,
      "outputs": []
    },
    {
      "cell_type": "markdown",
      "source": [
        "## Запуск турнира"
      ],
      "metadata": {
        "id": "N6B7gTAeJIWc"
      }
    },
    {
      "cell_type": "code",
      "source": [
        "# Все агенты в турнире\n",
        "agents =  [stone_agent, scissors_agent, paper_agent, random_agent, scissors_or_stone_agent, stone_or_paper_agent, repeat_self_random_agent, cyclic_agent, copy_opponent_action_agent, prefer_stone_agent, prefer_scissors_agent, prefer_paper_agent ]\n",
        "\n",
        "# Счётчики побед для каждого агента\n",
        "wins = [0] * len(agents)\n",
        "\n",
        "# Проведение турнира попарно\n",
        "for i in range(len(agents)):\n",
        "    for j in range(i + 1, len(agents)):\n",
        "        # Запускаем игру между двумя агентами\n",
        "        result = env.run([agents[i], agents[j]])\n",
        "\n",
        "        # Подсчитываем результаты каждой игры, если возвращает None, то автоматически проигрыш\n",
        "        agent_i_wins = sum([1 for r in result if r[0]['reward'] is not None and r[1]['reward'] is not None and r[0]['reward'] > r[1]['reward']])\n",
        "        agent_j_wins = sum([1 for r in result if r[0]['reward'] is not None and r[1]['reward'] is not None and r[1]['reward'] > r[0]['reward']])\n",
        "\n",
        "        # Обновляем счётчики побед для обоих агентов\n",
        "        wins[i] += agent_i_wins\n",
        "        wins[j] += agent_j_wins\n",
        "\n",
        "        # Выводим промежуточные результаты\n",
        "        print(f\"Агент {i + 1} vs Агент {j + 1}: Агент {i + 1} выиграл {agent_i_wins} раз, Агент {j + 1} выйграл {agent_j_wins} раз\")\n",
        "\n",
        "# Итоговые результаты турнира\n",
        "print(\"\\n=== Результаты турнира ===\")\n",
        "for i, win_count in enumerate(wins):\n",
        "    print(f\"Агент {i + 1}: имеет {win_count} побед\")\n",
        "\n",
        "# Определяем победителя\n",
        "best_agent_index = wins.index(max(wins))\n",
        "print(f\"\\nАгент {best_agent_index + 1} - победитель\")"
      ],
      "metadata": {
        "colab": {
          "base_uri": "https://localhost:8080/"
        },
        "id": "J_8DacbUJjO6",
        "outputId": "1be12b8e-4584-4d07-f4dd-1160d6ab70a5"
      },
      "execution_count": 74,
      "outputs": [
        {
          "output_type": "stream",
          "name": "stdout",
          "text": [
            "Агент 1 vs Агент 2: Агент 1 выиграл 0 раз, Агент 2 выйграл 999 раз\n",
            "Агент 1 vs Агент 3: Агент 1 выиграл 999 раз, Агент 3 выйграл 0 раз\n",
            "Агент 1 vs Агент 4: Агент 1 выиграл 133 раз, Агент 4 выйграл 843 раз\n",
            "Агент 1 vs Агент 5: Агент 1 выиграл 0 раз, Агент 5 выйграл 998 раз\n",
            "Агент 1 vs Агент 6: Агент 1 выиграл 998 раз, Агент 6 выйграл 0 раз\n",
            "Агент 1 vs Агент 7: Агент 1 выиграл 0 раз, Агент 7 выйграл 0 раз\n",
            "Агент 1 vs Агент 8: Агент 1 выиграл 0 раз, Агент 8 выйграл 333 раз\n",
            "Агент 1 vs Агент 9: Агент 1 выиграл 0 раз, Агент 9 выйграл 998 раз\n",
            "Агент 1 vs Агент 10: Агент 1 выиграл 305 раз, Агент 10 выйграл 617 раз\n",
            "Агент 1 vs Агент 11: Агент 1 выиграл 0 раз, Агент 11 выйграл 999 раз\n",
            "Агент 1 vs Агент 12: Агент 1 выиграл 990 раз, Агент 12 выйграл 6 раз\n",
            "Агент 2 vs Агент 3: Агент 2 выиграл 0 раз, Агент 3 выйграл 999 раз\n",
            "Агент 2 vs Агент 4: Агент 2 выиграл 737 раз, Агент 4 выйграл 244 раз\n",
            "Агент 2 vs Агент 5: Агент 2 выиграл 998 раз, Агент 5 выйграл 0 раз\n",
            "Агент 2 vs Агент 6: Агент 2 выиграл 164 раз, Агент 6 выйграл 795 раз\n",
            "Агент 2 vs Агент 7: Агент 2 выиграл 1 раз, Агент 7 выйграл 0 раз\n",
            "Агент 2 vs Агент 8: Агент 2 выиграл 666 раз, Агент 8 выйграл 0 раз\n",
            "Агент 2 vs Агент 9: Агент 2 выиграл 998 раз, Агент 9 выйграл 0 раз\n",
            "Агент 2 vs Агент 10: Агент 2 выиграл 998 раз, Агент 10 выйграл 0 раз\n",
            "Агент 2 vs Агент 11: Агент 2 выиграл 967 раз, Агент 11 выйграл 9 раз\n",
            "Агент 2 vs Агент 12: Агент 2 выиграл 2 раз, Агент 12 выйграл 995 раз\n",
            "Агент 3 vs Агент 4: Агент 3 выиграл 970 раз, Агент 4 выйграл 12 раз\n",
            "Агент 3 vs Агент 5: Агент 3 выиграл 162 раз, Агент 5 выйграл 785 раз\n",
            "Агент 3 vs Агент 6: Агент 3 выиграл 0 раз, Агент 6 выйграл 998 раз\n",
            "Агент 3 vs Агент 7: Агент 3 выиграл 0 раз, Агент 7 выйграл 0 раз\n",
            "Агент 3 vs Агент 8: Агент 3 выиграл 0 раз, Агент 8 выйграл 333 раз\n",
            "Агент 3 vs Агент 9: Агент 3 выиграл 998 раз, Агент 9 выйграл 0 раз\n",
            "Агент 3 vs Агент 10: Агент 3 выиграл 0 раз, Агент 10 выйграл 999 раз\n",
            "Агент 3 vs Агент 11: Агент 3 выиграл 998 раз, Агент 11 выйграл 0 раз\n",
            "Агент 3 vs Агент 12: Агент 3 выиграл 846 раз, Агент 12 выйграл 121 раз\n",
            "Агент 4 vs Агент 5: Агент 4 выиграл 416 раз, Агент 5 выйграл 555 раз\n",
            "Агент 4 vs Агент 6: Агент 4 выиграл 135 раз, Агент 6 выйграл 837 раз\n",
            "Агент 4 vs Агент 7: Агент 4 выиграл 0 раз, Агент 7 выйграл 0 раз\n",
            "Агент 4 vs Агент 8: Агент 4 выиграл 321 раз, Агент 8 выйграл 666 раз\n",
            "Агент 4 vs Агент 9: Агент 4 выиграл 19 раз, Агент 9 выйграл 974 раз\n",
            "Агент 4 vs Агент 10: Агент 4 выиграл 413 раз, Агент 10 выйграл 571 раз\n",
            "Агент 4 vs Агент 11: Агент 4 выиграл 31 раз, Агент 11 выйграл 956 раз\n",
            "Агент 4 vs Агент 12: Агент 4 выиграл 314 раз, Агент 12 выйграл 682 раз\n",
            "Агент 5 vs Агент 6: Агент 5 выиграл 993 раз, Агент 6 выйграл 2 раз\n",
            "Агент 5 vs Агент 7: Агент 5 выиграл 0 раз, Агент 7 выйграл 1 раз\n",
            "Агент 5 vs Агент 8: Агент 5 выиграл 664 раз, Агент 8 выйграл 287 раз\n",
            "Агент 5 vs Агент 9: Агент 5 выиграл 511 раз, Агент 9 выйграл 0 раз\n",
            "Агент 5 vs Агент 10: Агент 5 выиграл 999 раз, Агент 10 выйграл 0 раз\n",
            "Агент 5 vs Агент 11: Агент 5 выиграл 1 раз, Агент 11 выйграл 996 раз\n",
            "Агент 5 vs Агент 12: Агент 5 выиграл 1 раз, Агент 12 выйграл 994 раз\n",
            "Агент 6 vs Агент 7: Агент 6 выиграл 1 раз, Агент 7 выйграл 0 раз\n",
            "Агент 6 vs Агент 8: Агент 6 выиграл 293 раз, Агент 8 выйграл 667 раз\n",
            "Агент 6 vs Агент 9: Агент 6 выиграл 0 раз, Агент 9 выйграл 489 раз\n",
            "Агент 6 vs Агент 10: Агент 6 выиграл 0 раз, Агент 10 выйграл 992 раз\n",
            "Агент 6 vs Агент 11: Агент 6 выиграл 838 раз, Агент 11 выйграл 103 раз\n",
            "Агент 6 vs Агент 12: Агент 6 выиграл 976 раз, Агент 12 выйграл 13 раз\n",
            "Агент 7 vs Агент 8: Агент 7 выиграл 0 раз, Агент 8 выйграл 1 раз\n",
            "Агент 7 vs Агент 9: Агент 7 выиграл 1 раз, Агент 9 выйграл 0 раз\n",
            "Агент 7 vs Агент 10: Агент 7 выиграл 1 раз, Агент 10 выйграл 0 раз\n",
            "Агент 7 vs Агент 11: Агент 7 выиграл 1 раз, Агент 11 выйграл 0 раз\n",
            "Агент 7 vs Агент 12: Агент 7 выиграл 1 раз, Агент 12 выйграл 0 раз\n",
            "Агент 8 vs Агент 9: Агент 8 выиграл 997 раз, Агент 9 выйграл 1 раз\n",
            "Агент 8 vs Агент 10: Агент 8 выиграл 104 раз, Агент 10 выйграл 883 раз\n",
            "Агент 8 vs Агент 11: Агент 8 выиграл 450 раз, Агент 11 выйграл 473 раз\n",
            "Агент 8 vs Агент 12: Агент 8 выиграл 283 раз, Агент 12 выйграл 635 раз\n",
            "Агент 9 vs Агент 10: Агент 9 выиграл 383 раз, Агент 10 выйграл 485 раз\n",
            "Агент 9 vs Агент 11: Агент 9 выиграл 0 раз, Агент 11 выйграл 991 раз\n",
            "Агент 9 vs Агент 12: Агент 9 выиграл 0 раз, Агент 12 выйграл 993 раз\n",
            "Агент 10 vs Агент 11: Агент 10 выиграл 82 раз, Агент 11 выйграл 903 раз\n",
            "Агент 10 vs Агент 12: Агент 10 выиграл 993 раз, Агент 12 выйграл 1 раз\n",
            "Агент 11 vs Агент 12: Агент 11 выиграл 0 раз, Агент 12 выйграл 994 раз\n",
            "\n",
            "=== Результаты турнира ===\n",
            "Агент 1: имеет 3425 побед\n",
            "Агент 2: имеет 6530 побед\n",
            "Агент 3: имеет 4973 побед\n",
            "Агент 4: имеет 2748 побед\n",
            "Агент 5: имеет 5507 побед\n",
            "Агент 6: имеет 4740 побед\n",
            "Агент 7: имеет 5 побед\n",
            "Агент 8: имеет 4121 побед\n",
            "Агент 9: имеет 2845 побед\n",
            "Агент 10: имеет 5622 побед\n",
            "Агент 11: имеет 5430 побед\n",
            "Агент 12: имеет 5434 побед\n",
            "\n",
            "Агент 2 - победитель\n"
          ]
        }
      ]
    }
  ],
  "metadata": {
    "language_info": {
      "name": "python"
    },
    "colab": {
      "provenance": [],
      "include_colab_link": true
    },
    "kernelspec": {
      "name": "python3",
      "display_name": "Python 3"
    }
  },
  "nbformat": 4,
  "nbformat_minor": 0
}
